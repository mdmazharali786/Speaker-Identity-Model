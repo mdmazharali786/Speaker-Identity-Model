{
 "cells": [
  {
   "cell_type": "markdown",
   "id": "0b2595e9",
   "metadata": {},
   "source": [
    "### Speaker Identity Model- Training"
   ]
  },
  {
   "cell_type": "code",
   "execution_count": 324,
   "id": "4f83b06b",
   "metadata": {},
   "outputs": [],
   "source": [
    "# loading required library\n",
    "import matplotlib.pyplot as plt\n",
    "import numpy as np\n",
    "import librosa\n",
    "import os\n",
    "import shutil\n",
    "import pandas as pd\n",
    "from keras import models\n",
    "from keras import layers\n",
    "import keras\n",
    "from keras.models import Model\n",
    "from sklearn.model_selection import train_test_split\n",
    "import tqdm"
   ]
  },
  {
   "cell_type": "code",
   "execution_count": 2,
   "id": "1d78e9a5",
   "metadata": {},
   "outputs": [
    {
     "data": {
      "text/plain": [
       "'2.13.0'"
      ]
     },
     "execution_count": 2,
     "metadata": {},
     "output_type": "execute_result"
    }
   ],
   "source": [
    "import tensorflow as tf\n",
    "tf.__version__"
   ]
  },
  {
   "cell_type": "markdown",
   "id": "366a297d",
   "metadata": {},
   "source": [
    "#### About Dataset:\n",
    "Datasource: https://www.sciencedirect.com/science/article/pii/S2352340922002815\n",
    "<br>The dataset is used from above resource. The dataset contains total 3000 sample of 150 speakers of Arabic accent and English language. Each speaker's 10 sample digit pronounce and 10 sample of different phrase. Each sample lengths 5-6 seconds.\n"
   ]
  },
  {
   "cell_type": "markdown",
   "id": "a61d39fa",
   "metadata": {},
   "source": [
    "### Data collection and preprocessing"
   ]
  },
  {
   "cell_type": "code",
   "execution_count": 301,
   "id": "254a502c",
   "metadata": {},
   "outputs": [],
   "source": [
    "#base folder of dataset\n",
    "folder='.\\\\Speaker Dataset'\n",
    "\n",
    "#function to get all the file name of all subdirectories of given root directory\n",
    "def get_file_name(folder_path):\n",
    "    file_list = []\n",
    "    y_true = []\n",
    "    \n",
    "    for root, dirs, files in os.walk(folder_path):\n",
    "        for file in files:\n",
    "            file_list.append(file)\n",
    "            y_true.append(int(file.split('-')[0]))\n",
    "            \n",
    "    return file_list, y_true\n",
    "\n",
    "#this function creates train and test folder and distributing file among as per train_test_split\n",
    "def create_train_test_dir(folder_name, file_list):\n",
    "    os.mkdir(folder_name)\n",
    "    for root, dirs, files in os.walk(folder):\n",
    "        for each_dir in dirs:\n",
    "            rest = root.split('\\\\')[2:]\n",
    "            rest = '\\\\'.join(rest)\n",
    "            rest = os.path.join(rest, each_dir)\n",
    "            rest = os.path.join(folder_name, rest)\n",
    "            os.mkdir(rest)\n",
    "            \n",
    "        for each_file in files:\n",
    "            if each_file in file_list:\n",
    "                dest = root.split('\\\\')[2:]\n",
    "                dest = '\\\\'.join(dest)\n",
    "                dest = os.path.join(folder_name, dest)\n",
    "                src = os.path.join(root, each_file)\n",
    "                shutil.copy(src, dest)\n",
    "    print('All copy done...')\n",
    "    "
   ]
  },
  {
   "cell_type": "markdown",
   "id": "2520f17c",
   "metadata": {},
   "source": [
    "##### Train and Test split of dataset file"
   ]
  },
  {
   "cell_type": "code",
   "execution_count": 302,
   "id": "a328e9a5",
   "metadata": {},
   "outputs": [
    {
     "name": "stdout",
     "output_type": "stream",
     "text": [
      "All copy done...\n",
      "All copy done...\n"
     ]
    }
   ],
   "source": [
    "#shutil.rmtree('Train')\n",
    "#shutil.rmtree('Test')\n",
    "file_name, y_data = get_file_name(folder)\n",
    "train_file, test_file, y_tr, y_test = train_test_split(file_name, y_data, test_size=0.05, stratify=y_data, random_state=42)\n",
    "create_train_test_dir('Train', train_file)\n",
    "create_train_test_dir('Test', test_file)"
   ]
  },
  {
   "cell_type": "markdown",
   "id": "c62df359",
   "metadata": {},
   "source": [
    "##### Feature Extraction"
   ]
  },
  {
   "cell_type": "code",
   "execution_count": 303,
   "id": "e63a0018",
   "metadata": {
    "scrolled": true
   },
   "outputs": [],
   "source": [
    "# this function extracts some basic features of speech of all files of the given root folder\n",
    "def audio_preprocessing(root_dir):\n",
    "    header = 'filename chroma_stft rmse spec_cent spec_bw rolloff zcr mfcc lpc label'\n",
    "    dict_data = {}\n",
    "    for ftr in header.split():\n",
    "        if ftr=='mfcc':\n",
    "            for i in range(1, 21):\n",
    "                dict_data[ftr+str(i)]=[]\n",
    "        elif ftr=='chroma_stft':\n",
    "            for i in range(1, 13):\n",
    "                dict_data[ftr+str(i)]=[]\n",
    "        else:\n",
    "            dict_data[ftr]=[]\n",
    "\n",
    "    for root, dirs, files in tqdm.tqdm(os.walk(root_dir)):\n",
    "        for file in files:\n",
    "            dict_data['filename'].append(file)\n",
    "            dict_data['label'].append(int(file.split('-')[0]))\n",
    "\n",
    "            file_loc = os.path.join(root, file)\n",
    "            y, sr = librosa.load(file_loc, mono=True)\n",
    "            y, index = librosa.effects.trim(y)\n",
    "\n",
    "            chroma_stft = librosa.feature.chroma_stft(y=y, sr=sr)\n",
    "            chroma_stft = chroma_stft.mean(axis=1)\n",
    "            for i in range(1, chroma_stft.shape[0]+1):\n",
    "                dict_data['chroma_stft'+str(i)].append(chroma_stft[i-1])\n",
    "\n",
    "            rmse = librosa.feature.rms(y=y)\n",
    "            dict_data['rmse'].append(rmse.mean())\n",
    "\n",
    "            spec_cent = librosa.feature.spectral_centroid(y=y, sr=sr)\n",
    "            dict_data['spec_cent'].append(spec_cent.mean())\n",
    "\n",
    "            spec_bw = librosa.feature.spectral_bandwidth(y=y, sr=sr)\n",
    "            dict_data['spec_bw'].append(spec_bw.mean())\n",
    "\n",
    "            rolloff = librosa.feature.spectral_rolloff(y=y, sr=sr)\n",
    "            dict_data['rolloff'].append(rolloff.mean())\n",
    "\n",
    "            zcr = librosa.feature.zero_crossing_rate(y)\n",
    "            dict_data['zcr'].append(zcr.mean())\n",
    "\n",
    "            mfcc = librosa.feature.mfcc(y=y, sr=sr)\n",
    "            mfcc = mfcc.mean(axis=1)\n",
    "            for i in range(1, mfcc.shape[0]+1):\n",
    "                dict_data['mfcc'+str(i)].append(mfcc[i-1])\n",
    "\n",
    "            lpc = librosa.lpc(y=y, order=2)\n",
    "            \n",
    "            dict_data['lpc'].append(lpc[1])\n",
    "    print('Preproessing done..')\n",
    "    return pd.DataFrame(dict_data)"
   ]
  },
  {
   "cell_type": "code",
   "execution_count": 304,
   "id": "45f345de",
   "metadata": {
    "scrolled": true
   },
   "outputs": [
    {
     "name": "stderr",
     "output_type": "stream",
     "text": [
      "303it [16:54,  3.35s/it]\n",
      "0it [00:00, ?it/s]"
     ]
    },
    {
     "name": "stdout",
     "output_type": "stream",
     "text": [
      "Preproessing done..\n"
     ]
    },
    {
     "name": "stderr",
     "output_type": "stream",
     "text": [
      "303it [00:53,  5.64it/s]"
     ]
    },
    {
     "name": "stdout",
     "output_type": "stream",
     "text": [
      "Preproessing done..\n"
     ]
    },
    {
     "name": "stderr",
     "output_type": "stream",
     "text": [
      "\n"
     ]
    }
   ],
   "source": [
    "train_df = audio_preprocessing('.\\\\Train')\n",
    "test_df = audio_preprocessing('.\\\\Test')"
   ]
  },
  {
   "cell_type": "markdown",
   "id": "eeee7989",
   "metadata": {},
   "source": [
    "##### Saving file name of dataset used in training and testing"
   ]
  },
  {
   "cell_type": "code",
   "execution_count": 308,
   "id": "a50d42a3",
   "metadata": {},
   "outputs": [],
   "source": [
    "with open('train file.txt', 'w') as f:\n",
    "    f.write(str(list(train_df.filename))[1:-1])"
   ]
  },
  {
   "cell_type": "code",
   "execution_count": 309,
   "id": "95cf0579",
   "metadata": {},
   "outputs": [],
   "source": [
    "with open('test file.txt', 'w') as f:\n",
    "    f.write(str(list(test_df.filename))[1:-1])"
   ]
  },
  {
   "cell_type": "markdown",
   "id": "95ff6192",
   "metadata": {},
   "source": [
    "##### Column Standerdization"
   ]
  },
  {
   "cell_type": "code",
   "execution_count": 310,
   "id": "dd8523ce",
   "metadata": {},
   "outputs": [],
   "source": [
    "data_point = train_df.shape[0]\n",
    "rand_train_df = train_df.sample(data_point)"
   ]
  },
  {
   "cell_type": "code",
   "execution_count": 311,
   "id": "2a707f6e",
   "metadata": {},
   "outputs": [
    {
     "name": "stdout",
     "output_type": "stream",
     "text": [
      "Y from training data: (2850,)\n",
      "Y from test data: (150,)\n"
     ]
    }
   ],
   "source": [
    "X_train = rand_train_df.iloc[:, 1:-1].values\n",
    "y_train = rand_train_df.iloc[:, -1].values\n",
    "\n",
    "X_test = test_df.iloc[:, 1:-1].values\n",
    "y_test = test_df.iloc[:, -1].values\n",
    "\n",
    "\n",
    "print(\"Y from training data:\", y_train.shape)\n",
    "print(\"Y from test data:\", y_test.shape)"
   ]
  },
  {
   "cell_type": "code",
   "execution_count": 312,
   "id": "a46b42da",
   "metadata": {},
   "outputs": [
    {
     "name": "stdout",
     "output_type": "stream",
     "text": [
      "X from training data (2850, 38)\n",
      "X from test data (150, 38)\n"
     ]
    }
   ],
   "source": [
    "#Normalizing the dataset\n",
    "from sklearn.preprocessing import StandardScaler\n",
    "import numpy as np\n",
    "scaler = StandardScaler()\n",
    "X_train = scaler.fit_transform( X_train )\n",
    "X_test = scaler.transform( X_test )\n",
    "\n",
    "print(\"X from training data\", X_train.shape)\n",
    "print(\"X from test data\", X_test.shape)\n"
   ]
  },
  {
   "cell_type": "code",
   "execution_count": 313,
   "id": "4280f983",
   "metadata": {},
   "outputs": [],
   "source": [
    "#saving standard scaler for transforming query data\n",
    "import pickle\n",
    "with open('scaler.pkl','wb') as f:\n",
    "    pickle.dump(scaler, f)"
   ]
  },
  {
   "attachments": {
    "model.png": {
     "image/png": "[encoded data removed]"
    }
   },
   "cell_type": "markdown",
   "id": "bb8bed58",
   "metadata": {},
   "source": [
    "### Model Architecture and training- A Deep Neural Network\n",
    "![model.png](attachment:model.png)"
   ]
  },
  {
   "cell_type": "code",
   "execution_count": 316,
   "id": "062ed5d4",
   "metadata": {
    "scrolled": false
   },
   "outputs": [
    {
     "name": "stdout",
     "output_type": "stream",
     "text": [
      "Epoch 1/100\n",
      "9/9 [==============================] - 2s 65ms/step - loss: 4.9993 - accuracy: 0.0447 - val_loss: 4.7174 - val_accuracy: 0.2895 - lr: 0.0010\n",
      "Epoch 2/100\n",
      "9/9 [==============================] - 0s 37ms/step - loss: 3.3339 - accuracy: 0.2719 - val_loss: 4.3872 - val_accuracy: 0.4754 - lr: 0.0010\n",
      "Epoch 3/100\n",
      "9/9 [==============================] - 0s 39ms/step - loss: 2.2851 - accuracy: 0.5048 - val_loss: 4.0449 - val_accuracy: 0.6596 - lr: 0.0010\n",
      "Epoch 4/100\n",
      "9/9 [==============================] - 0s 39ms/step - loss: 1.5609 - accuracy: 0.6711 - val_loss: 3.6887 - val_accuracy: 0.7965 - lr: 0.0010\n",
      "Epoch 5/100\n",
      "9/9 [==============================] - 0s 37ms/step - loss: 1.0740 - accuracy: 0.7636 - val_loss: 3.3441 - val_accuracy: 0.8439 - lr: 0.0010\n",
      "Epoch 6/100\n",
      "9/9 [==============================] - 0s 42ms/step - loss: 0.7602 - accuracy: 0.8342 - val_loss: 3.0401 - val_accuracy: 0.8281 - lr: 0.0010\n",
      "Epoch 7/100\n",
      "9/9 [==============================] - 0s 38ms/step - loss: 0.5623 - accuracy: 0.8789 - val_loss: 2.7761 - val_accuracy: 0.8333 - lr: 0.0010\n",
      "Epoch 8/100\n",
      "9/9 [==============================] - 0s 37ms/step - loss: 0.4650 - accuracy: 0.8904 - val_loss: 2.5520 - val_accuracy: 0.8368 - lr: 0.0010\n",
      "Epoch 9/100\n",
      "9/9 [==============================] - 0s 40ms/step - loss: 0.3928 - accuracy: 0.9101 - val_loss: 2.3452 - val_accuracy: 0.8368 - lr: 0.0010\n",
      "Epoch 10/100\n",
      "9/9 [==============================] - 0s 40ms/step - loss: 0.3215 - accuracy: 0.9241 - val_loss: 2.1642 - val_accuracy: 0.8456 - lr: 0.0010\n",
      "Epoch 11/100\n",
      "9/9 [==============================] - 0s 39ms/step - loss: 0.2786 - accuracy: 0.9342 - val_loss: 2.0191 - val_accuracy: 0.8175 - lr: 0.0010\n",
      "Epoch 12/100\n",
      "9/9 [==============================] - 0s 38ms/step - loss: 0.2343 - accuracy: 0.9452 - val_loss: 1.8738 - val_accuracy: 0.8193 - lr: 0.0010\n",
      "Epoch 13/100\n",
      "9/9 [==============================] - 0s 39ms/step - loss: 0.2223 - accuracy: 0.9439 - val_loss: 1.7280 - val_accuracy: 0.8193 - lr: 0.0010\n",
      "Epoch 14/100\n",
      "9/9 [==============================] - 0s 39ms/step - loss: 0.1902 - accuracy: 0.9553 - val_loss: 1.5741 - val_accuracy: 0.8333 - lr: 0.0010\n",
      "Epoch 15/100\n",
      "9/9 [==============================] - 0s 40ms/step - loss: 0.1660 - accuracy: 0.9605 - val_loss: 1.4520 - val_accuracy: 0.8421 - lr: 0.0010\n",
      "Epoch 16/100\n",
      "9/9 [==============================] - 0s 40ms/step - loss: 0.1768 - accuracy: 0.9518 - val_loss: 1.3246 - val_accuracy: 0.8421 - lr: 0.0010\n",
      "Epoch 17/100\n",
      "9/9 [==============================] - 0s 42ms/step - loss: 0.1596 - accuracy: 0.9583 - val_loss: 1.2055 - val_accuracy: 0.8491 - lr: 0.0010\n",
      "Epoch 18/100\n",
      "9/9 [==============================] - 0s 39ms/step - loss: 0.1379 - accuracy: 0.9592 - val_loss: 1.0836 - val_accuracy: 0.8649 - lr: 0.0010\n",
      "Epoch 19/100\n",
      "9/9 [==============================] - 0s 43ms/step - loss: 0.1227 - accuracy: 0.9680 - val_loss: 0.9794 - val_accuracy: 0.8807 - lr: 0.0010\n",
      "Epoch 20/100\n",
      "9/9 [==============================] - 0s 45ms/step - loss: 0.1081 - accuracy: 0.9750 - val_loss: 0.8780 - val_accuracy: 0.8772 - lr: 0.0010\n",
      "Epoch 21/100\n",
      "9/9 [==============================] - 0s 45ms/step - loss: 0.1153 - accuracy: 0.9732 - val_loss: 0.7872 - val_accuracy: 0.8772 - lr: 0.0010\n",
      "Epoch 22/100\n",
      "9/9 [==============================] - 0s 41ms/step - loss: 0.1083 - accuracy: 0.9697 - val_loss: 0.6989 - val_accuracy: 0.8825 - lr: 0.0010\n",
      "Epoch 23/100\n",
      "9/9 [==============================] - 0s 42ms/step - loss: 0.1018 - accuracy: 0.9728 - val_loss: 0.6127 - val_accuracy: 0.9000 - lr: 0.0010\n",
      "Epoch 24/100\n",
      "9/9 [==============================] - 0s 38ms/step - loss: 0.1071 - accuracy: 0.9684 - val_loss: 0.5370 - val_accuracy: 0.9140 - lr: 0.0010\n",
      "Epoch 25/100\n",
      "9/9 [==============================] - 0s 40ms/step - loss: 0.0870 - accuracy: 0.9789 - val_loss: 0.4949 - val_accuracy: 0.9088 - lr: 0.0010\n",
      "Epoch 26/100\n",
      "9/9 [==============================] - 0s 39ms/step - loss: 0.0936 - accuracy: 0.9719 - val_loss: 0.4361 - val_accuracy: 0.9018 - lr: 0.0010\n",
      "Epoch 27/100\n",
      "9/9 [==============================] - 0s 38ms/step - loss: 0.0799 - accuracy: 0.9763 - val_loss: 0.3909 - val_accuracy: 0.9070 - lr: 0.0010\n",
      "Epoch 28/100\n",
      "9/9 [==============================] - 0s 42ms/step - loss: 0.0796 - accuracy: 0.9798 - val_loss: 0.3517 - val_accuracy: 0.9263 - lr: 0.0010\n",
      "Epoch 29/100\n",
      "9/9 [==============================] - 0s 38ms/step - loss: 0.0830 - accuracy: 0.9776 - val_loss: 0.3127 - val_accuracy: 0.9333 - lr: 0.0010\n",
      "Epoch 30/100\n",
      "9/9 [==============================] - 0s 39ms/step - loss: 0.0667 - accuracy: 0.9811 - val_loss: 0.2790 - val_accuracy: 0.9351 - lr: 0.0010\n",
      "Epoch 31/100\n",
      "9/9 [==============================] - 0s 43ms/step - loss: 0.0660 - accuracy: 0.9807 - val_loss: 0.2599 - val_accuracy: 0.9351 - lr: 0.0010\n",
      "Epoch 32/100\n",
      "9/9 [==============================] - 0s 38ms/step - loss: 0.0683 - accuracy: 0.9798 - val_loss: 0.2402 - val_accuracy: 0.9386 - lr: 0.0010\n",
      "Epoch 33/100\n",
      "9/9 [==============================] - 0s 42ms/step - loss: 0.0688 - accuracy: 0.9785 - val_loss: 0.2285 - val_accuracy: 0.9386 - lr: 0.0010\n",
      "Epoch 34/100\n",
      "9/9 [==============================] - 0s 41ms/step - loss: 0.0707 - accuracy: 0.9789 - val_loss: 0.2158 - val_accuracy: 0.9386 - lr: 0.0010\n",
      "Epoch 35/100\n",
      "9/9 [==============================] - 0s 44ms/step - loss: 0.0640 - accuracy: 0.9794 - val_loss: 0.1995 - val_accuracy: 0.9421 - lr: 0.0010\n",
      "Epoch 36/100\n",
      "9/9 [==============================] - 0s 41ms/step - loss: 0.0677 - accuracy: 0.9768 - val_loss: 0.1913 - val_accuracy: 0.9474 - lr: 0.0010\n",
      "Epoch 37/100\n",
      "9/9 [==============================] - 0s 39ms/step - loss: 0.0617 - accuracy: 0.9807 - val_loss: 0.1904 - val_accuracy: 0.9491 - lr: 0.0010\n",
      "Epoch 38/100\n",
      "9/9 [==============================] - 0s 38ms/step - loss: 0.0642 - accuracy: 0.9776 - val_loss: 0.1803 - val_accuracy: 0.9526 - lr: 0.0010\n",
      "Epoch 39/100\n",
      "9/9 [==============================] - 0s 42ms/step - loss: 0.0543 - accuracy: 0.9846 - val_loss: 0.1727 - val_accuracy: 0.9439 - lr: 0.0010\n",
      "Epoch 40/100\n",
      "9/9 [==============================] - 0s 38ms/step - loss: 0.0609 - accuracy: 0.9789 - val_loss: 0.1606 - val_accuracy: 0.9439 - lr: 0.0010\n",
      "Epoch 41/100\n",
      "9/9 [==============================] - 0s 38ms/step - loss: 0.0567 - accuracy: 0.9811 - val_loss: 0.1652 - val_accuracy: 0.9439 - lr: 0.0010\n",
      "Epoch 42/100\n",
      "9/9 [==============================] - 0s 43ms/step - loss: 0.0474 - accuracy: 0.9851 - val_loss: 0.1796 - val_accuracy: 0.9456 - lr: 0.0010\n",
      "Epoch 43/100\n",
      "9/9 [==============================] - 0s 41ms/step - loss: 0.0490 - accuracy: 0.9851 - val_loss: 0.1719 - val_accuracy: 0.9421 - lr: 0.0010\n",
      "Epoch 44/100\n",
      "9/9 [==============================] - 0s 38ms/step - loss: 0.0555 - accuracy: 0.9829 - val_loss: 0.1578 - val_accuracy: 0.9456 - lr: 0.0010\n",
      "Epoch 45/100\n",
      "9/9 [==============================] - 0s 39ms/step - loss: 0.0479 - accuracy: 0.9825 - val_loss: 0.1778 - val_accuracy: 0.9439 - lr: 0.0010\n",
      "Epoch 46/100\n",
      "9/9 [==============================] - 0s 39ms/step - loss: 0.0559 - accuracy: 0.9816 - val_loss: 0.1612 - val_accuracy: 0.9456 - lr: 0.0010\n",
      "Epoch 47/100\n",
      "9/9 [==============================] - 0s 39ms/step - loss: 0.0531 - accuracy: 0.9820 - val_loss: 0.1638 - val_accuracy: 0.9439 - lr: 0.0010\n",
      "Epoch 48/100\n",
      "9/9 [==============================] - 0s 39ms/step - loss: 0.0473 - accuracy: 0.9825 - val_loss: 0.1537 - val_accuracy: 0.9439 - lr: 0.0010\n",
      "Epoch 49/100\n",
      "9/9 [==============================] - 0s 41ms/step - loss: 0.0467 - accuracy: 0.9860 - val_loss: 0.1558 - val_accuracy: 0.9421 - lr: 0.0010\n",
      "Epoch 50/100\n",
      "9/9 [==============================] - 0s 45ms/step - loss: 0.0479 - accuracy: 0.9794 - val_loss: 0.1590 - val_accuracy: 0.9421 - lr: 0.0010\n",
      "Epoch 51/100\n",
      "9/9 [==============================] - 0s 45ms/step - loss: 0.0528 - accuracy: 0.9825 - val_loss: 0.1733 - val_accuracy: 0.9439 - lr: 0.0010\n",
      "Epoch 52/100\n",
      "9/9 [==============================] - 0s 47ms/step - loss: 0.0421 - accuracy: 0.9851 - val_loss: 0.1537 - val_accuracy: 0.9456 - lr: 0.0010\n",
      "Epoch 53/100\n",
      "9/9 [==============================] - 0s 43ms/step - loss: 0.0437 - accuracy: 0.9855 - val_loss: 0.1517 - val_accuracy: 0.9439 - lr: 0.0010\n",
      "Epoch 54/100\n",
      "9/9 [==============================] - 0s 42ms/step - loss: 0.0484 - accuracy: 0.9803 - val_loss: 0.1632 - val_accuracy: 0.9474 - lr: 0.0010\n",
      "Epoch 55/100\n",
      "9/9 [==============================] - 0s 49ms/step - loss: 0.0427 - accuracy: 0.9868 - val_loss: 0.1597 - val_accuracy: 0.9456 - lr: 0.0010\n",
      "Epoch 56/100\n",
      "9/9 [==============================] - 0s 42ms/step - loss: 0.0475 - accuracy: 0.9803 - val_loss: 0.1572 - val_accuracy: 0.9474 - lr: 0.0010\n",
      "Epoch 57/100\n",
      "9/9 [==============================] - 0s 42ms/step - loss: 0.0406 - accuracy: 0.9846 - val_loss: 0.1569 - val_accuracy: 0.9474 - lr: 0.0010\n",
      "Epoch 58/100\n",
      "9/9 [==============================] - 0s 49ms/step - loss: 0.0415 - accuracy: 0.9838 - val_loss: 0.1671 - val_accuracy: 0.9439 - lr: 0.0010\n",
      "Epoch 59/100\n",
      "9/9 [==============================] - 0s 41ms/step - loss: 0.0420 - accuracy: 0.9833 - val_loss: 0.1601 - val_accuracy: 0.9474 - lr: 0.0010\n",
      "Epoch 60/100\n",
      "9/9 [==============================] - 0s 43ms/step - loss: 0.0415 - accuracy: 0.9846 - val_loss: 0.1561 - val_accuracy: 0.9491 - lr: 0.0010\n",
      "Epoch 61/100\n",
      "9/9 [==============================] - 0s 42ms/step - loss: 0.0409 - accuracy: 0.9868 - val_loss: 0.1617 - val_accuracy: 0.9509 - lr: 0.0010\n",
      "Epoch 62/100\n",
      "9/9 [==============================] - 0s 40ms/step - loss: 0.0392 - accuracy: 0.9868 - val_loss: 0.1735 - val_accuracy: 0.9491 - lr: 0.0010\n",
      "Epoch 63/100\n",
      "9/9 [==============================] - 0s 48ms/step - loss: 0.0408 - accuracy: 0.9851 - val_loss: 0.1534 - val_accuracy: 0.9491 - lr: 0.0010\n",
      "Epoch 64/100\n",
      "9/9 [==============================] - 0s 41ms/step - loss: 0.0359 - accuracy: 0.9873 - val_loss: 0.1527 - val_accuracy: 0.9491 - lr: 1.0000e-04\n",
      "Epoch 65/100\n",
      "9/9 [==============================] - 0s 45ms/step - loss: 0.0382 - accuracy: 0.9855 - val_loss: 0.1544 - val_accuracy: 0.9509 - lr: 1.0000e-04\n",
      "Epoch 66/100\n",
      "9/9 [==============================] - 0s 41ms/step - loss: 0.0375 - accuracy: 0.9825 - val_loss: 0.1552 - val_accuracy: 0.9491 - lr: 1.0000e-04\n",
      "Epoch 67/100\n",
      "9/9 [==============================] - 0s 45ms/step - loss: 0.0341 - accuracy: 0.9868 - val_loss: 0.1574 - val_accuracy: 0.9491 - lr: 1.0000e-04\n",
      "Epoch 68/100\n",
      "9/9 [==============================] - 0s 46ms/step - loss: 0.0355 - accuracy: 0.9864 - val_loss: 0.1591 - val_accuracy: 0.9491 - lr: 1.0000e-04\n",
      "Epoch 69/100\n",
      "9/9 [==============================] - 0s 39ms/step - loss: 0.0363 - accuracy: 0.9860 - val_loss: 0.1598 - val_accuracy: 0.9474 - lr: 1.0000e-04\n",
      "Epoch 70/100\n",
      "9/9 [==============================] - 0s 39ms/step - loss: 0.0362 - accuracy: 0.9855 - val_loss: 0.1585 - val_accuracy: 0.9474 - lr: 1.0000e-04\n",
      "Epoch 71/100\n",
      "9/9 [==============================] - 0s 42ms/step - loss: 0.0370 - accuracy: 0.9842 - val_loss: 0.1593 - val_accuracy: 0.9456 - lr: 1.0000e-04\n",
      "Epoch 72/100\n",
      "9/9 [==============================] - 0s 45ms/step - loss: 0.0362 - accuracy: 0.9855 - val_loss: 0.1598 - val_accuracy: 0.9456 - lr: 1.0000e-04\n",
      "Epoch 73/100\n",
      "9/9 [==============================] - 0s 40ms/step - loss: 0.0376 - accuracy: 0.9842 - val_loss: 0.1601 - val_accuracy: 0.9456 - lr: 1.0000e-04\n",
      "Epoch 74/100\n",
      "9/9 [==============================] - 0s 41ms/step - loss: 0.0366 - accuracy: 0.9851 - val_loss: 0.1601 - val_accuracy: 0.9456 - lr: 1.0000e-05\n",
      "Epoch 75/100\n",
      "9/9 [==============================] - 0s 38ms/step - loss: 0.0330 - accuracy: 0.9868 - val_loss: 0.1602 - val_accuracy: 0.9456 - lr: 1.0000e-05\n",
      "Epoch 76/100\n",
      "9/9 [==============================] - 0s 40ms/step - loss: 0.0350 - accuracy: 0.9873 - val_loss: 0.1603 - val_accuracy: 0.9456 - lr: 1.0000e-05\n",
      "Epoch 77/100\n",
      "9/9 [==============================] - 0s 39ms/step - loss: 0.0345 - accuracy: 0.9873 - val_loss: 0.1603 - val_accuracy: 0.9456 - lr: 1.0000e-05\n",
      "Epoch 78/100\n",
      "9/9 [==============================] - 0s 41ms/step - loss: 0.0327 - accuracy: 0.9864 - val_loss: 0.1603 - val_accuracy: 0.9456 - lr: 1.0000e-05\n",
      "Epoch 79/100\n",
      "9/9 [==============================] - 0s 46ms/step - loss: 0.0314 - accuracy: 0.9899 - val_loss: 0.1602 - val_accuracy: 0.9456 - lr: 1.0000e-05\n",
      "Epoch 80/100\n",
      "9/9 [==============================] - 0s 42ms/step - loss: 0.0281 - accuracy: 0.9904 - val_loss: 0.1602 - val_accuracy: 0.9456 - lr: 1.0000e-05\n",
      "Epoch 81/100\n",
      "9/9 [==============================] - 0s 40ms/step - loss: 0.0313 - accuracy: 0.9899 - val_loss: 0.1603 - val_accuracy: 0.9456 - lr: 1.0000e-05\n",
      "Epoch 82/100\n",
      "9/9 [==============================] - 0s 40ms/step - loss: 0.0356 - accuracy: 0.9833 - val_loss: 0.1604 - val_accuracy: 0.9456 - lr: 1.0000e-05\n",
      "Epoch 83/100\n",
      "9/9 [==============================] - 0s 40ms/step - loss: 0.0327 - accuracy: 0.9895 - val_loss: 0.1604 - val_accuracy: 0.9456 - lr: 1.0000e-05\n",
      "Epoch 84/100\n",
      "9/9 [==============================] - 0s 40ms/step - loss: 0.0360 - accuracy: 0.9877 - val_loss: 0.1603 - val_accuracy: 0.9456 - lr: 1.0000e-06\n",
      "Epoch 85/100\n",
      "9/9 [==============================] - 0s 38ms/step - loss: 0.0304 - accuracy: 0.9917 - val_loss: 0.1603 - val_accuracy: 0.9456 - lr: 1.0000e-06\n",
      "Epoch 86/100\n",
      "9/9 [==============================] - 0s 38ms/step - loss: 0.0311 - accuracy: 0.9899 - val_loss: 0.1603 - val_accuracy: 0.9456 - lr: 1.0000e-06\n",
      "Epoch 87/100\n",
      "9/9 [==============================] - 0s 40ms/step - loss: 0.0316 - accuracy: 0.9882 - val_loss: 0.1603 - val_accuracy: 0.9456 - lr: 1.0000e-06\n",
      "Epoch 88/100\n",
      "9/9 [==============================] - 0s 39ms/step - loss: 0.0284 - accuracy: 0.9912 - val_loss: 0.1603 - val_accuracy: 0.9456 - lr: 1.0000e-06\n",
      "Epoch 89/100\n",
      "9/9 [==============================] - 0s 40ms/step - loss: 0.0365 - accuracy: 0.9860 - val_loss: 0.1603 - val_accuracy: 0.9456 - lr: 1.0000e-06\n",
      "Epoch 90/100\n",
      "9/9 [==============================] - 0s 41ms/step - loss: 0.0305 - accuracy: 0.9882 - val_loss: 0.1604 - val_accuracy: 0.9456 - lr: 1.0000e-06\n",
      "Epoch 91/100\n",
      "9/9 [==============================] - 0s 44ms/step - loss: 0.0336 - accuracy: 0.9868 - val_loss: 0.1605 - val_accuracy: 0.9456 - lr: 1.0000e-06\n",
      "Epoch 92/100\n",
      "9/9 [==============================] - 0s 45ms/step - loss: 0.0323 - accuracy: 0.9829 - val_loss: 0.1605 - val_accuracy: 0.9456 - lr: 1.0000e-06\n",
      "Epoch 93/100\n",
      "9/9 [==============================] - 0s 41ms/step - loss: 0.0364 - accuracy: 0.9864 - val_loss: 0.1605 - val_accuracy: 0.9456 - lr: 1.0000e-06\n",
      "Epoch 94/100\n",
      "9/9 [==============================] - 0s 38ms/step - loss: 0.0325 - accuracy: 0.9855 - val_loss: 0.1605 - val_accuracy: 0.9456 - lr: 1.0000e-07\n",
      "Epoch 95/100\n",
      "9/9 [==============================] - 0s 40ms/step - loss: 0.0353 - accuracy: 0.9855 - val_loss: 0.1605 - val_accuracy: 0.9456 - lr: 1.0000e-07\n",
      "Epoch 96/100\n",
      "9/9 [==============================] - 0s 40ms/step - loss: 0.0326 - accuracy: 0.9886 - val_loss: 0.1605 - val_accuracy: 0.9456 - lr: 1.0000e-07\n",
      "Epoch 97/100\n",
      "9/9 [==============================] - 0s 38ms/step - loss: 0.0359 - accuracy: 0.9846 - val_loss: 0.1605 - val_accuracy: 0.9456 - lr: 1.0000e-07\n",
      "Epoch 98/100\n",
      "9/9 [==============================] - 0s 40ms/step - loss: 0.0374 - accuracy: 0.9864 - val_loss: 0.1605 - val_accuracy: 0.9456 - lr: 1.0000e-07\n",
      "Epoch 99/100\n",
      "9/9 [==============================] - 0s 40ms/step - loss: 0.0348 - accuracy: 0.9868 - val_loss: 0.1605 - val_accuracy: 0.9456 - lr: 1.0000e-07\n",
      "Epoch 100/100\n",
      "9/9 [==============================] - 0s 40ms/step - loss: 0.0324 - accuracy: 0.9912 - val_loss: 0.1605 - val_accuracy: 0.9456 - lr: 1.0000e-07\n"
     ]
    }
   ],
   "source": [
    "#Creating a Model\n",
    "from keras import models\n",
    "from keras import layers\n",
    "import keras\n",
    "keras.backend.clear_session()\n",
    "\n",
    "# model \n",
    "input_layer = layers.Input(shape=(38,))\n",
    "h_layers = layers.Dense(1024, activation='relu')(input_layer)\n",
    "h_layers = layers.BatchNormalization()(h_layers)\n",
    "h_layers = layers.Dropout(0.5)(h_layers)\n",
    "h_layers = layers.Dense(512, activation='relu')(h_layers)\n",
    "h_layers = layers.BatchNormalization()(h_layers)\n",
    "h_layers = layers.Dropout(0.3)(h_layers)\n",
    "h_layers = layers.Dense(256, activation='relu')(h_layers)\n",
    "h_layers = layers.Dropout(0.3)(h_layers)\n",
    "output = layers.Dense(151, activation='softmax')(h_layers)\n",
    "\n",
    "model = Model(inputs=input_layer, outputs=output)\n",
    "\n",
    "model.compile(optimizer='adam',\n",
    "              loss='sparse_categorical_crossentropy',\n",
    "              metrics=['accuracy'])\n",
    "\n",
    "from keras.callbacks import EarlyStopping, ReduceLROnPlateau\n",
    "\n",
    "#es = EarlyStopping(monitor='val_loss', mode='min', verbose=1)\n",
    "reduce_lr = ReduceLROnPlateau(monitor='val_loss', verbose=0, mode='min')\n",
    "\n",
    "history = model.fit(X_train,\n",
    "                    y_train,\n",
    "                    validation_split=0.2,\n",
    "                    epochs=100,\n",
    "                    batch_size=256, \n",
    "                    callbacks=[reduce_lr])"
   ]
  },
  {
   "cell_type": "code",
   "execution_count": 327,
   "id": "6aab76a0",
   "metadata": {},
   "outputs": [
    {
     "name": "stdout",
     "output_type": "stream",
     "text": [
      "Model: \"model\"\n",
      "_________________________________________________________________\n",
      " Layer (type)                Output Shape              Param #   \n",
      "=================================================================\n",
      " input_1 (InputLayer)        [(None, 38)]              0         \n",
      "                                                                 \n",
      " dense (Dense)               (None, 1024)              39936     \n",
      "                                                                 \n",
      " batch_normalization (Batch  (None, 1024)              4096      \n",
      " Normalization)                                                  \n",
      "                                                                 \n",
      " dropout (Dropout)           (None, 1024)              0         \n",
      "                                                                 \n",
      " dense_1 (Dense)             (None, 512)               524800    \n",
      "                                                                 \n",
      " batch_normalization_1 (Bat  (None, 512)               2048      \n",
      " chNormalization)                                                \n",
      "                                                                 \n",
      " dropout_1 (Dropout)         (None, 512)               0         \n",
      "                                                                 \n",
      " dense_2 (Dense)             (None, 256)               131328    \n",
      "                                                                 \n",
      " dropout_2 (Dropout)         (None, 256)               0         \n",
      "                                                                 \n",
      " dense_3 (Dense)             (None, 151)               38807     \n",
      "                                                                 \n",
      "=================================================================\n",
      "Total params: 741015 (2.83 MB)\n",
      "Trainable params: 737943 (2.82 MB)\n",
      "Non-trainable params: 3072 (12.00 KB)\n",
      "_________________________________________________________________\n"
     ]
    }
   ],
   "source": [
    "model.summary()"
   ]
  },
  {
   "cell_type": "markdown",
   "id": "036f562f",
   "metadata": {},
   "source": [
    "### Model prediction and evaluation"
   ]
  },
  {
   "cell_type": "code",
   "execution_count": 320,
   "id": "2644e7bb",
   "metadata": {},
   "outputs": [
    {
     "name": "stdout",
     "output_type": "stream",
     "text": [
      "1/1 [==============================] - 0s 19ms/step\n",
      "Speaker:  50 Probability:  0.9998073\n"
     ]
    }
   ],
   "source": [
    "score = model.predict(X_test[122].reshape(-1,38))\n",
    "print('Speaker: ', np.argmax(score), \"Probability: \", score[0,np.argmax(score)])"
   ]
  },
  {
   "cell_type": "code",
   "execution_count": 160,
   "id": "8dc4d396",
   "metadata": {},
   "outputs": [
    {
     "data": {
      "text/plain": [
       "136"
      ]
     },
     "execution_count": 160,
     "metadata": {},
     "output_type": "execute_result"
    }
   ],
   "source": [
    "y_test[19]"
   ]
  },
  {
   "cell_type": "code",
   "execution_count": 321,
   "id": "254a20f9",
   "metadata": {},
   "outputs": [
    {
     "name": "stdout",
     "output_type": "stream",
     "text": [
      "5/5 [==============================] - 0s 4ms/step - loss: 0.1171 - accuracy: 0.9600\n"
     ]
    },
    {
     "data": {
      "text/plain": [
       "[0.11714431643486023, 0.9599999785423279]"
      ]
     },
     "execution_count": 321,
     "metadata": {},
     "output_type": "execute_result"
    }
   ],
   "source": [
    "model.evaluate(X_test, y_test)"
   ]
  },
  {
   "cell_type": "markdown",
   "id": "8471f31c",
   "metadata": {},
   "source": [
    "##### Saved Model for Web API"
   ]
  },
  {
   "cell_type": "code",
   "execution_count": 323,
   "id": "17598003",
   "metadata": {},
   "outputs": [],
   "source": [
    "model.save('./model.h5')"
   ]
  },
  {
   "cell_type": "markdown",
   "id": "b59e95b0",
   "metadata": {},
   "source": [
    "##### Future scope\n",
    "<ul><li>Unknown speaker has to be handled. \n",
    "    <li> Multi Speaker Identity</ul>\n",
    " <p>\n",
    "Facing challanges of collecting multilable speaker dataset. Complexity in speaker diaratization."
   ]
  },
  {
   "cell_type": "markdown",
   "id": "733b2784",
   "metadata": {},
   "source": [
    "### Future Work Ongoing"
   ]
  },
  {
   "cell_type": "code",
   "execution_count": 6,
   "id": "098f3cad",
   "metadata": {},
   "outputs": [],
   "source": [
    "from pyannote.audio import Model"
   ]
  },
  {
   "cell_type": "code",
   "execution_count": 9,
   "id": "564f4d9a",
   "metadata": {},
   "outputs": [
    {
     "data": {
      "text/plain": [
       "['pyannote/TestModelForContinuousIntegration',\n",
       " 'pyannote/embedding',\n",
       " 'pyannote/segmentation',\n",
       " 'pyannote/brouhaha',\n",
       " 'pyannote/segmentation-3.0',\n",
       " 'pyannote/wespeaker-voxceleb-resnet34-LM',\n",
       " 'pyannote/ci-segmentation']"
      ]
     },
     "execution_count": 9,
     "metadata": {},
     "output_type": "execute_result"
    }
   ],
   "source": [
    "from huggingface_hub import HfApi\n",
    "available_models = [m.modelId for m in HfApi().list_models(filter=\"pyannote-audio-model\")]\n",
    "list(filter(lambda p: p.startswith(\"pyannote/\"), available_models))"
   ]
  },
  {
   "cell_type": "code",
   "execution_count": 10,
   "id": "42d21f15",
   "metadata": {},
   "outputs": [
    {
     "data": {
      "application/vnd.jupyter.widget-view+json": {
       "model_id": "4dd178dc655a4c55bced0a303b2f5e74",
       "version_major": 2,
       "version_minor": 0
      },
      "text/plain": [
       "VBox(children=(HTML(value='<center> <img\\nsrc=https://huggingface.co/front/assets/huggingface_logo-noborder.sv…"
      ]
     },
     "metadata": {},
     "output_type": "display_data"
    }
   ],
   "source": [
    "from huggingface_hub import notebook_login\n",
    "notebook_login()\n"
   ]
  },
  {
   "cell_type": "code",
   "execution_count": 17,
   "id": "f5970da7",
   "metadata": {},
   "outputs": [
    {
     "data": {
      "application/vnd.jupyter.widget-view+json": {
       "model_id": "0871b51b053d44e79cbbe97a13669db8",
       "version_major": 2,
       "version_minor": 0
      },
      "text/plain": [
       "pytorch_model.bin:   0%|          | 0.00/5.91M [00:00<?, ?B/s]"
      ]
     },
     "metadata": {},
     "output_type": "display_data"
    },
    {
     "data": {
      "application/vnd.jupyter.widget-view+json": {
       "model_id": "a1e62cba7295450587f959789b5b0318",
       "version_major": 2,
       "version_minor": 0
      },
      "text/plain": [
       "config.yaml:   0%|          | 0.00/399 [00:00<?, ?B/s]"
      ]
     },
     "metadata": {},
     "output_type": "display_data"
    }
   ],
   "source": [
    "model = Model.from_pretrained(\"pyannote/segmentation-3.0\", use_auth_token=True)"
   ]
  },
  {
   "cell_type": "code",
   "execution_count": 18,
   "id": "31d345e9",
   "metadata": {},
   "outputs": [
    {
     "data": {
      "text/plain": [
       "  | Name       | Type       | Params | In sizes       | Out sizes                                  \n",
       "---------------------------------------------------------------------------------------------------------\n",
       "0 | sincnet    | SincNet    | 42.6 K | [1, 1, 160000] | [1, 60, 589]                               \n",
       "1 | lstm       | LSTM       | 1.4 M  | [1, 589, 60]   | [[1, 589, 256], [[8, 1, 128], [8, 1, 128]]]\n",
       "2 | linear     | ModuleList | 49.4 K | ?              | ?                                          \n",
       "3 | classifier | Linear     | 903    | [1, 589, 128]  | [1, 589, 7]                                \n",
       "4 | activation | LogSoftmax | 0      | [1, 589, 7]    | [1, 589, 7]                                \n",
       "---------------------------------------------------------------------------------------------------------\n",
       "1.5 M     Trainable params\n",
       "0         Non-trainable params\n",
       "1.5 M     Total params\n",
       "5.893     Total estimated model params size (MB)"
      ]
     },
     "execution_count": 18,
     "metadata": {},
     "output_type": "execute_result"
    }
   ],
   "source": [
    "from pytorch_lightning.utilities.model_summary import summarize\n",
    "\n",
    "summarize(model)"
   ]
  },
  {
   "cell_type": "code",
   "execution_count": 19,
   "id": "3f24b49e",
   "metadata": {},
   "outputs": [
    {
     "data": {
      "text/plain": [
       "Specifications(problem=<Problem.MONO_LABEL_CLASSIFICATION: 1>, resolution=<Resolution.FRAME: 1>, duration=10.0, min_duration=None, warm_up=(0.0, 0.0), classes=['speaker#1', 'speaker#2', 'speaker#3'], powerset_max_classes=2, permutation_invariant=True)"
      ]
     },
     "execution_count": 19,
     "metadata": {},
     "output_type": "execute_result"
    }
   ],
   "source": [
    "specs = model.specifications\n",
    "specs"
   ]
  },
  {
   "cell_type": "code",
   "execution_count": 21,
   "id": "1ce00412",
   "metadata": {},
   "outputs": [
    {
     "data": {
      "image/png": "[encoded data removed]",
      "text/plain": [
       "<pyannote.core.feature.SlidingWindowFeature at 0x1eeb4235b80>"
      ]
     },
     "execution_count": 21,
     "metadata": {},
     "output_type": "execute_result"
    }
   ],
   "source": [
    "from pyannote.audio import Inference\n",
    "inference = Inference(model, step=2.5)\n",
    "output = inference('B_G.wav')\n",
    "output"
   ]
  },
  {
   "cell_type": "code",
   "execution_count": 22,
   "id": "cbb480be",
   "metadata": {},
   "outputs": [
    {
     "data": {
      "text/plain": [
       "(16, 589, 3)"
      ]
     },
     "execution_count": 22,
     "metadata": {},
     "output_type": "execute_result"
    }
   ],
   "source": [
    "output.data.shape"
   ]
  },
  {
   "cell_type": "code",
   "execution_count": 34,
   "id": "fcbe16a1",
   "metadata": {},
   "outputs": [
    {
     "data": {
      "text/plain": [
       "array([[0., 1., 0.],\n",
       "       [0., 1., 0.],\n",
       "       [0., 1., 0.],\n",
       "       ...,\n",
       "       [0., 0., 1.],\n",
       "       [0., 0., 1.],\n",
       "       [0., 0., 1.]], dtype=float32)"
      ]
     },
     "execution_count": 34,
     "metadata": {},
     "output_type": "execute_result"
    }
   ],
   "source": [
    "output.data[0,:,:]"
   ]
  },
  {
   "cell_type": "code",
   "execution_count": 41,
   "id": "2058fa75",
   "metadata": {},
   "outputs": [
    {
     "name": "stdout",
     "output_type": "stream",
     "text": [
      "type(waveform)=<class 'torch.Tensor'>\n",
      "waveform.shape=torch.Size([1, 2027012])\n",
      "waveform.dtype=torch.float32\n"
     ]
    }
   ],
   "source": [
    "import torchaudio\n",
    "waveform, sample_rate = torchaudio.load('B_G.wav')\n",
    "\n",
    "print(f\"{type(waveform)=}\")\n",
    "print(f\"{waveform.shape=}\")\n",
    "print(f\"{waveform.dtype=}\")\n",
    "\n",
    "audio_in_memory = {\"waveform\": waveform, \"sample_rate\": sample_rate}"
   ]
  },
  {
   "cell_type": "code",
   "execution_count": 42,
   "id": "e757d60c",
   "metadata": {},
   "outputs": [
    {
     "data": {
      "image/png": "[encoded data removed]",
      "text/plain": [
       "<pyannote.core.feature.SlidingWindowFeature at 0x1eebbf2ac10>"
      ]
     },
     "execution_count": 42,
     "metadata": {},
     "output_type": "execute_result"
    }
   ],
   "source": [
    "output = inference(audio_in_memory)\n",
    "output"
   ]
  },
  {
   "cell_type": "code",
   "execution_count": 44,
   "id": "13acb1d1",
   "metadata": {},
   "outputs": [
    {
     "data": {
      "text/plain": [
       "torch.Size([1, 2027012])"
      ]
     },
     "execution_count": 44,
     "metadata": {},
     "output_type": "execute_result"
    }
   ],
   "source": [
    "waveform.shape"
   ]
  },
  {
   "cell_type": "code",
   "execution_count": 47,
   "id": "24fd6db8",
   "metadata": {},
   "outputs": [
    {
     "data": {
      "text/plain": [
       "44100"
      ]
     },
     "execution_count": 47,
     "metadata": {},
     "output_type": "execute_result"
    }
   ],
   "source": [
    "sample_rate"
   ]
  },
  {
   "cell_type": "code",
   "execution_count": 48,
   "id": "f1fd9b10",
   "metadata": {},
   "outputs": [
    {
     "data": {
      "image/png": "[encoded data removed]",
      "text/plain": [
       "<pyannote.core.feature.SlidingWindowFeature at 0x1eebc94c0a0>"
      ]
     },
     "execution_count": 48,
     "metadata": {},
     "output_type": "execute_result"
    }
   ],
   "source": [
    "from pyannote.core import Segment\n",
    "output = inference.crop(audio_in_memory, Segment(0, 20))\n",
    "output\n"
   ]
  },
  {
   "cell_type": "code",
   "execution_count": 90,
   "id": "46ff4b9c",
   "metadata": {},
   "outputs": [
    {
     "data": {
      "text/plain": [
       "array([[0.        , 0.31409168, 0.16298811],\n",
       "       [0.        , 0.31578946, 0.2359932 ],\n",
       "       [0.        , 0.23089983, 0.3548387 ],\n",
       "       [0.        , 0.44312394, 0.10865875],\n",
       "       [0.        , 0.24957556, 0.4091681 ]], dtype=float32)"
      ]
     },
     "execution_count": 90,
     "metadata": {},
     "output_type": "execute_result"
    }
   ],
   "source": [
    "output.data.mean(axis=1)"
   ]
  },
  {
   "cell_type": "code",
   "execution_count": 92,
   "id": "db63b4f8",
   "metadata": {},
   "outputs": [
    {
     "data": {
      "application/vnd.jupyter.widget-view+json": {
       "model_id": "e0fe8f0af6e248dfbd9a659252bfdd67",
       "version_major": 2,
       "version_minor": 0
      },
      "text/plain": [
       "config.yaml:   0%|          | 0.00/469 [00:00<?, ?B/s]"
      ]
     },
     "metadata": {},
     "output_type": "display_data"
    },
    {
     "data": {
      "application/vnd.jupyter.widget-view+json": {
       "model_id": "ada5790a2e9f47e2861e6cb0954c52b8",
       "version_major": 2,
       "version_minor": 0
      },
      "text/plain": [
       "pytorch_model.bin:   0%|          | 0.00/26.6M [00:00<?, ?B/s]"
      ]
     },
     "metadata": {},
     "output_type": "display_data"
    },
    {
     "data": {
      "application/vnd.jupyter.widget-view+json": {
       "model_id": "04d2fec7fbac4bc7936f2820fa3b5ef4",
       "version_major": 2,
       "version_minor": 0
      },
      "text/plain": [
       "config.yaml:   0%|          | 0.00/221 [00:00<?, ?B/s]"
      ]
     },
     "metadata": {},
     "output_type": "display_data"
    }
   ],
   "source": [
    "from pyannote.audio import Pipeline\n",
    "pipeline = Pipeline.from_pretrained(\"pyannote/speaker-diarization-3.1\", use_auth_token=True)"
   ]
  },
  {
   "cell_type": "code",
   "execution_count": 93,
   "id": "43c7a7f0",
   "metadata": {},
   "outputs": [],
   "source": [
    "dia = pipeline('B_G.wav')"
   ]
  },
  {
   "cell_type": "code",
   "execution_count": 94,
   "id": "92b8e53d",
   "metadata": {},
   "outputs": [
    {
     "data": {
      "image/png": "[encoded data removed]",
      "text/plain": [
       "<pyannote.core.annotation.Annotation at 0x1eebed74190>"
      ]
     },
     "execution_count": 94,
     "metadata": {},
     "output_type": "execute_result"
    }
   ],
   "source": [
    "dia"
   ]
  },
  {
   "cell_type": "code",
   "execution_count": 102,
   "id": "aa7aedfe",
   "metadata": {},
   "outputs": [
    {
     "name": "stdout",
     "output_type": "stream",
     "text": [
      " 0.0  0.4 SPEAKER_00 A\n",
      " 1.3  1.7 SPEAKER_02 B\n",
      " 2.6  4.1 SPEAKER_00 C\n",
      " 5.1  5.7 SPEAKER_02 D\n",
      " 6.4  7.6 SPEAKER_00 E\n",
      " 9.3 10.5 SPEAKER_02 F\n",
      "10.7 11.1 SPEAKER_00 G\n",
      "11.9 14.2 SPEAKER_02 H\n",
      "14.9 15.5 SPEAKER_00 I\n",
      "16.6 17.9 SPEAKER_02 J\n",
      "18.4 19.9 SPEAKER_00 K\n",
      "20.8 21.7 SPEAKER_02 L\n",
      "23.3 24.4 SPEAKER_00 M\n",
      "24.5 25.7 SPEAKER_00 N\n",
      "28.0 29.8 SPEAKER_00 O\n",
      "30.9 31.5 SPEAKER_00 P\n",
      "32.2 32.6 SPEAKER_00 Q\n",
      "33.2 34.4 SPEAKER_00 R\n",
      "36.4 40.0 SPEAKER_01 S\n",
      "40.3 41.6 SPEAKER_01 T\n",
      "40.3 44.7 SPEAKER_00 U\n"
     ]
    }
   ],
   "source": [
    "for speech_turn, track, speaker in dia.itertracks(yield_label=True):\n",
    "    print(f\"{speech_turn.start:4.1f} {speech_turn.end:4.1f} {speaker} {track}\")"
   ]
  },
  {
   "cell_type": "code",
   "execution_count": 99,
   "id": "fc9c6e83",
   "metadata": {},
   "outputs": [
    {
     "data": {
      "text/plain": [
       "<generator object Annotation.itertracks at 0x000001EEC2EC04A0>"
      ]
     },
     "execution_count": 99,
     "metadata": {},
     "output_type": "execute_result"
    }
   ],
   "source": [
    "dia.itertracks(yield_label)"
   ]
  }
 ],
 "metadata": {
  "kernelspec": {
   "display_name": "Python 3",
   "language": "python",
   "name": "python3"
  },
  "language_info": {
   "codemirror_mode": {
    "name": "ipython",
    "version": 3
   },
   "file_extension": ".py",
   "mimetype": "text/x-python",
   "name": "python",
   "nbconvert_exporter": "python",
   "pygments_lexer": "ipython3",
   "version": "3.8.8"
  }
 },
 "nbformat": 4,
 "nbformat_minor": 5
}
