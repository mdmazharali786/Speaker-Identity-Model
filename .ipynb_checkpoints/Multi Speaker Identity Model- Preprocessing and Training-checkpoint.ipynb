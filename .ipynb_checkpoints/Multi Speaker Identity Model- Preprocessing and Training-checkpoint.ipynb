{
 "cells": [
  {
   "cell_type": "code",
   "execution_count": 1,
   "id": "c5561b4b",
   "metadata": {},
   "outputs": [],
   "source": [
    "import pandas as pd\n",
    "merged_with_lable = pd.read_csv('merged_with_lable.csv')"
   ]
  },
  {
   "cell_type": "code",
   "execution_count": 12,
   "id": "382f2f13",
   "metadata": {},
   "outputs": [],
   "source": [
    "import numpy as np"
   ]
  },
  {
   "cell_type": "code",
   "execution_count": 4,
   "id": "411ff490",
   "metadata": {},
   "outputs": [],
   "source": [
    "from sklearn.model_selection import train_test_split\n",
    "train_file, test_file = train_test_split(merged_with_lable, test_size=0.1, stratify=merged_with_lable.speaker, random_state=42)"
   ]
  },
  {
   "cell_type": "code",
   "execution_count": 63,
   "id": "aedc7172",
   "metadata": {},
   "outputs": [],
   "source": [
    "def preprocessing(data):\n",
    "    temp_data = []\n",
    "    for i in data:\n",
    "        x = np.array(list(map(float, i[2:-2].split())))\n",
    "        temp_data.append(x)\n",
    "    return np.array(temp_data)\n",
    "    "
   ]
  },
  {
   "cell_type": "code",
   "execution_count": 64,
   "id": "0296c3c0",
   "metadata": {},
   "outputs": [
    {
     "name": "stdout",
     "output_type": "stream",
     "text": [
      "Train Shapes:  (1980, 192) (1980,)\n",
      "Test Shapes:  (220, 192) (220,)\n"
     ]
    }
   ],
   "source": [
    "X_train = preprocessing(train_file['embedding'])\n",
    "y_train = train_file['speaker'].values\n",
    "\n",
    "X_test = preprocessing(test_file['embedding'])\n",
    "y_test = test_file['speaker'].values\n",
    "\n",
    "print('Train Shapes: ', X_train.shape, y_train.shape)\n",
    "print('Test Shapes: ', X_test.shape, y_test.shape)"
   ]
  },
  {
   "cell_type": "code",
   "execution_count": 152,
   "id": "972f0d85",
   "metadata": {},
   "outputs": [
    {
     "data": {
      "text/plain": [
       "array([[ 1.74702526, -0.95129676, -1.25274476, ..., -0.34838784,\n",
       "        -1.0254665 , -0.32630358],\n",
       "       [ 0.16143161,  0.45827345,  0.73805768, ...,  0.43237098,\n",
       "         1.1595121 , -1.34152887],\n",
       "       [-2.26539202, -0.69389329, -0.94157693, ...,  0.02360265,\n",
       "         0.15787262, -0.45469149],\n",
       "       ...,\n",
       "       [ 0.49889446, -0.88368472, -0.58717739, ...,  0.28890819,\n",
       "         2.45517544,  0.79214781],\n",
       "       [-1.08189852,  0.63985973,  0.44714791, ...,  0.76037328,\n",
       "         2.1761072 , -1.19115527],\n",
       "       [-1.98921822, -1.31864335, -0.16528676, ...,  1.45907001,\n",
       "        -0.5266189 , -0.78477917]])"
      ]
     },
     "execution_count": 152,
     "metadata": {},
     "output_type": "execute_result"
    }
   ],
   "source": [
    "X_test#.reshape(-1,1,-1).shape"
   ]
  },
  {
   "cell_type": "code",
   "execution_count": 71,
   "id": "a8afa140",
   "metadata": {},
   "outputs": [],
   "source": [
    "from sklearn.preprocessing import LabelEncoder\n",
    "le = LabelEncoder()\n",
    "y_train = le.fit_transform(y_train)\n",
    "y_test = le.fit_transform(y_test)"
   ]
  },
  {
   "cell_type": "code",
   "execution_count": 145,
   "id": "f2d19025",
   "metadata": {},
   "outputs": [],
   "source": [
    "import pickle as pkl\n",
    "with open('label_enc.pkl', 'wb') as fh:\n",
    "    pkl.dump(le, fh)"
   ]
  },
  {
   "cell_type": "code",
   "execution_count": 75,
   "id": "2c3492bf",
   "metadata": {},
   "outputs": [],
   "source": [
    "from sklearn.preprocessing import StandardScaler\n",
    "scaler = StandardScaler()\n",
    "X_train = scaler.fit_transform( X_train )\n",
    "X_test = scaler.transform( X_test )"
   ]
  },
  {
   "cell_type": "code",
   "execution_count": 146,
   "id": "f6c76f6a",
   "metadata": {},
   "outputs": [],
   "source": [
    "with open('scaler.pkl', 'wb') as fh:\n",
    "    pkl.dump(scaler, fh)"
   ]
  },
  {
   "cell_type": "code",
   "execution_count": 92,
   "id": "6f8a7051",
   "metadata": {
    "scrolled": false
   },
   "outputs": [
    {
     "name": "stdout",
     "output_type": "stream",
     "text": [
      "Epoch 1/100\n",
      "7/7 [==============================] - 2s 115ms/step - loss: 1.3573 - accuracy: 0.5682 - val_loss: 0.8965 - val_accuracy: 0.7551\n",
      "Epoch 2/100\n",
      "7/7 [==============================] - 1s 87ms/step - loss: 0.7256 - accuracy: 0.7992 - val_loss: 0.8520 - val_accuracy: 0.8056\n",
      "Epoch 3/100\n",
      "7/7 [==============================] - 1s 86ms/step - loss: 0.5261 - accuracy: 0.8194 - val_loss: 0.8461 - val_accuracy: 0.7702\n",
      "Epoch 4/100\n",
      "7/7 [==============================] - 1s 88ms/step - loss: 0.4423 - accuracy: 0.8479 - val_loss: 0.7372 - val_accuracy: 0.7828\n",
      "Epoch 5/100\n",
      "7/7 [==============================] - 1s 85ms/step - loss: 0.3990 - accuracy: 0.8624 - val_loss: 0.6477 - val_accuracy: 0.8056\n",
      "Epoch 6/100\n",
      "7/7 [==============================] - 1s 87ms/step - loss: 0.3338 - accuracy: 0.8756 - val_loss: 0.6423 - val_accuracy: 0.7904\n",
      "Epoch 7/100\n",
      "7/7 [==============================] - 1s 87ms/step - loss: 0.3155 - accuracy: 0.8920 - val_loss: 0.5877 - val_accuracy: 0.8131\n",
      "Epoch 8/100\n",
      "7/7 [==============================] - 1s 103ms/step - loss: 0.2752 - accuracy: 0.9015 - val_loss: 0.5608 - val_accuracy: 0.8056\n",
      "Epoch 9/100\n",
      "7/7 [==============================] - 1s 86ms/step - loss: 0.2176 - accuracy: 0.9223 - val_loss: 0.5325 - val_accuracy: 0.8131\n",
      "Epoch 10/100\n",
      "7/7 [==============================] - 1s 84ms/step - loss: 0.2167 - accuracy: 0.9179 - val_loss: 0.5592 - val_accuracy: 0.7955\n",
      "Epoch 10: early stopping\n"
     ]
    }
   ],
   "source": [
    "#Creating a Model\n",
    "from keras import models\n",
    "from keras.models import Model\n",
    "from keras import layers\n",
    "import keras\n",
    "keras.backend.clear_session()\n",
    "\n",
    "# model \n",
    "input_layer = layers.Input(shape=(192,))\n",
    "h_layers = layers.Dense(2048, activation='relu')(input_layer)\n",
    "h_layers = layers.Dropout(0.3)(h_layers)\n",
    "h_layers = layers.Dense(1024, activation='relu')(h_layers)\n",
    "h_layers = layers.BatchNormalization()(h_layers)\n",
    "h_layers = layers.Dropout(0.5)(h_layers)\n",
    "h_layers = layers.Dense(512, activation='relu')(h_layers)\n",
    "h_layers = layers.BatchNormalization()(h_layers)\n",
    "h_layers = layers.Dropout(0.3)(h_layers)\n",
    "h_layers = layers.Dense(256, activation='relu')(h_layers)\n",
    "h_layers = layers.Dropout(0.3)(h_layers)\n",
    "output = layers.Dense(5, activation='softmax')(h_layers)\n",
    "\n",
    "model = Model(inputs=input_layer, outputs=output)\n",
    "\n",
    "model.compile(optimizer='adam',\n",
    "              loss='sparse_categorical_crossentropy',\n",
    "              metrics=['accuracy'])\n",
    "\n",
    "from keras.callbacks import EarlyStopping, ReduceLROnPlateau\n",
    "\n",
    "es = EarlyStopping(monitor='val_loss', mode='min', verbose=1)\n",
    "reduce_lr = ReduceLROnPlateau(monitor='val_loss', verbose=0, mode='min')\n",
    "\n",
    "history = model.fit(X_train,\n",
    "                    y_train,\n",
    "                    validation_split=0.2,\n",
    "                    epochs=100,\n",
    "                    batch_size=256, \n",
    "                    callbacks=[es])"
   ]
  },
  {
   "cell_type": "code",
   "execution_count": 93,
   "id": "85f9333f",
   "metadata": {},
   "outputs": [
    {
     "name": "stdout",
     "output_type": "stream",
     "text": [
      "7/7 [==============================] - 0s 6ms/step - loss: 0.5570 - accuracy: 0.8318\n"
     ]
    },
    {
     "data": {
      "text/plain": [
       "[0.5570483207702637, 0.831818163394928]"
      ]
     },
     "execution_count": 93,
     "metadata": {},
     "output_type": "execute_result"
    }
   ],
   "source": [
    "model.evaluate(X_test, y_test)"
   ]
  },
  {
   "cell_type": "code",
   "execution_count": 153,
   "id": "2da801b1",
   "metadata": {},
   "outputs": [
    {
     "name": "stderr",
     "output_type": "stream",
     "text": [
      "C:\\Users\\ML_AI\\AppData\\Roaming\\Python\\Python38\\site-packages\\keras\\src\\engine\\training.py:3000: UserWarning: You are saving your model as an HDF5 file via `model.save()`. This file format is considered legacy. We recommend using instead the native Keras format, e.g. `model.save('my_model.keras')`.\n",
      "  saving_api.save_model(\n"
     ]
    }
   ],
   "source": [
    "model.save('./model.h5')"
   ]
  },
  {
   "cell_type": "code",
   "execution_count": 134,
   "id": "7e1565cd",
   "metadata": {
    "scrolled": false
   },
   "outputs": [],
   "source": [
    "y_pred = []\n",
    "for i in range(X_test.shape[0]):\n",
    "    score = model.predict(X_test[i].reshape(-1,192), verbose=0)\n",
    "    #print('Speaker: ', le.inverse_transform([np.argmax(score)])[0], 'True Lable: ', le.inverse_transform([y_test[i]])[0], \"Probability: \", score[0,np.argmax(score)])\n",
    "    y_pred.append(np.argmax(score))"
   ]
  },
  {
   "cell_type": "code",
   "execution_count": 119,
   "id": "890d15a2",
   "metadata": {},
   "outputs": [
    {
     "data": {
      "text/plain": [
       "array(['Harsha_Bhogle'], dtype=object)"
      ]
     },
     "execution_count": 119,
     "metadata": {},
     "output_type": "execute_result"
    }
   ],
   "source": [
    "le.inverse_transform([1])"
   ]
  },
  {
   "cell_type": "code",
   "execution_count": 137,
   "id": "efccbb58",
   "metadata": {},
   "outputs": [
    {
     "data": {
      "text/plain": [
       "<sklearn.metrics._plot.confusion_matrix.ConfusionMatrixDisplay at 0x1fd028100a0>"
      ]
     },
     "execution_count": 137,
     "metadata": {},
     "output_type": "execute_result"
    },
    {
     "data": {
      "image/png": "[encoded data removed]",
      "text/plain": [
       "<Figure size 432x288 with 2 Axes>"
      ]
     },
     "metadata": {
      "needs_background": "light"
     },
     "output_type": "display_data"
    }
   ],
   "source": [
    "from sklearn.metrics import confusion_matrix, ConfusionMatrixDisplay\n",
    "cm = confusion_matrix(y_test, y_pred)\n",
    "disp = ConfusionMatrixDisplay(confusion_matrix=cm)\n",
    "disp.plot()"
   ]
  },
  {
   "cell_type": "code",
   "execution_count": 164,
   "id": "3bddd571",
   "metadata": {},
   "outputs": [
    {
     "data": {
      "text/plain": [
       "'D:\\\\Speaker Identity Model\\\\test\\\\o0lthO--veQ&listRDCMUCSRQXk5yErn4e14vN76upOw&index8.wav'"
      ]
     },
     "execution_count": 164,
     "metadata": {},
     "output_type": "execute_result"
    }
   ],
   "source": [
    "from pytube import YouTube\n",
    "url = \"https://www.youtube.com/watch?v=o0lthO--veQ&list=RDCMUCSRQXk5yErn4e14vN76upOw&index=8\"\n",
    "you_tube = YouTube(url)\n",
    "audi = you_tube.streams.filter(only_audio=True).first()\n",
    "fname= url.split('=')[1:]\n",
    "fname = ''.join(fname)\n",
    "audi.download(output_path='test', filename=fname+'.wav')"
   ]
  }
 ],
 "metadata": {
  "kernelspec": {
   "display_name": "Python 3",
   "language": "python",
   "name": "python3"
  },
  "language_info": {
   "codemirror_mode": {
    "name": "ipython",
    "version": 3
   },
   "file_extension": ".py",
   "mimetype": "text/x-python",
   "name": "python",
   "nbconvert_exporter": "python",
   "pygments_lexer": "ipython3",
   "version": "3.8.8"
  }
 },
 "nbformat": 4,
 "nbformat_minor": 5
}
